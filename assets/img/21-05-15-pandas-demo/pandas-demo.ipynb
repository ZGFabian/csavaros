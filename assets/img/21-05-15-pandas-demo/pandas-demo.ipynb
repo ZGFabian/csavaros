{
 "cells": [
  {
   "cell_type": "raw",
   "id": "364127cb-f102-4a3e-bb0b-df92f9631355",
   "metadata": {},
   "source": [
    "---\n",
    "layout: single\n",
    "classes: wide\n",
    "categories: [python, social statistics]\n",
    "tags: [python, pandas]\n",
    "layout: single\n",
    "classes: wide\n",
    "categories: [python, social statistics]\n",
    "tags: [python, pandas, jupyter-lab]\n",
    "---"
   ]
  },
  {
   "cell_type": "markdown",
   "id": "2ec9007f-bf32-4be6-8c85-f20d53a2ef12",
   "metadata": {},
   "source": [
    "# Getting started with Python pandas"
   ]
  },
  {
   "cell_type": "markdown",
   "id": "7c5e7be9-2409-40a8-a8cf-d68447b2f6cd",
   "metadata": {},
   "source": [
    "## What is pandas?\n",
    "\n",
    "[Pandas](https://pandas.pydata.org/) is a fast, powerful, flexible and easy to use open source data analysis and manipulation tool, built on top of the Python programming language.\n",
    "\n",
    "### Ask Python itself what is pandas!"
   ]
  },
  {
   "cell_type": "code",
   "execution_count": 11,
   "id": "f9ecb39e-68fd-45d6-9aae-0ecc7d87e2b3",
   "metadata": {
    "tags": []
   },
   "outputs": [
    {
     "data": {
      "text/plain": [
       "\u001b[0;31mType:\u001b[0m        module\n",
       "\u001b[0;31mString form:\u001b[0m <module 'pandas' from '/home/fabian/.local/lib/python3.9/site-packages/pandas/__init__.py'>\n",
       "\u001b[0;31mFile:\u001b[0m        ~/.local/lib/python3.9/site-packages/pandas/__init__.py\n",
       "\u001b[0;31mDocstring:\u001b[0m  \n",
       "pandas - a powerful data analysis and manipulation library for Python\n",
       "=====================================================================\n",
       "\n",
       "**pandas** is a Python package providing fast, flexible, and expressive data\n",
       "structures designed to make working with \"relational\" or \"labeled\" data both\n",
       "easy and intuitive. It aims to be the fundamental high-level building block for\n",
       "doing practical, **real world** data analysis in Python. Additionally, it has\n",
       "the broader goal of becoming **the most powerful and flexible open source data\n",
       "analysis / manipulation tool available in any language**. It is already well on\n",
       "its way toward this goal.\n",
       "\n",
       "Main Features\n",
       "-------------\n",
       "Here are just a few of the things that pandas does well:\n",
       "\n",
       "  - Easy handling of missing data in floating point as well as non-floating\n",
       "    point data.\n",
       "  - Size mutability: columns can be inserted and deleted from DataFrame and\n",
       "    higher dimensional objects\n",
       "  - Automatic and explicit data alignment: objects can be explicitly aligned\n",
       "    to a set of labels, or the user can simply ignore the labels and let\n",
       "    `Series`, `DataFrame`, etc. automatically align the data for you in\n",
       "    computations.\n",
       "  - Powerful, flexible group by functionality to perform split-apply-combine\n",
       "    operations on data sets, for both aggregating and transforming data.\n",
       "  - Make it easy to convert ragged, differently-indexed data in other Python\n",
       "    and NumPy data structures into DataFrame objects.\n",
       "  - Intelligent label-based slicing, fancy indexing, and subsetting of large\n",
       "    data sets.\n",
       "  - Intuitive merging and joining data sets.\n",
       "  - Flexible reshaping and pivoting of data sets.\n",
       "  - Hierarchical labeling of axes (possible to have multiple labels per tick).\n",
       "  - Robust IO tools for loading data from flat files (CSV and delimited),\n",
       "    Excel files, databases, and saving/loading data from the ultrafast HDF5\n",
       "    format.\n",
       "  - Time series-specific functionality: date range generation and frequency\n",
       "    conversion, moving window statistics, date shifting and lagging.\n"
      ]
     },
     "metadata": {},
     "output_type": "display_data"
    }
   ],
   "source": [
    "import pandas\n",
    "pandas?"
   ]
  },
  {
   "cell_type": "markdown",
   "id": "1ec471cd-5940-44ae-a6d0-147aae24be90",
   "metadata": {
    "tags": []
   },
   "source": [
    "Want to know more? Run `pandas??`!. To save some typing pandas can be imported as pd like `import pandas as pd`. So `pd??` will do it as well.\n",
    "\n",
    "## Go on with some real world example...\n",
    "\n",
    "Now we import `os`, `plotly` (as plotly.express) and `pandas` modules than load our example `gapminder` dataset as `DataFrame`. Note: that this intro example is created as a jupyter-lab notebook, that is alsa exported to a python script. Results were exported to markdown and pdf. In order to render correctly in Jekyll some minor modification were needed. See the modified Jekyll  on github."
   ]
  },
  {
   "cell_type": "code",
   "execution_count": 1,
   "id": "6107b5c9-eae6-41b8-a008-16490ebfa207",
   "metadata": {
    "tags": []
   },
   "outputs": [
    {
     "data": {
      "text/plain": [
       "pandas.core.frame.DataFrame"
      ]
     },
     "execution_count": 1,
     "metadata": {},
     "output_type": "execute_result"
    }
   ],
   "source": [
    "import os\n",
    "import plotly.express as px\n",
    "import pandas as pd\n",
    "df = px.data.gapminder()  # n.b. there is a separate module for gapminder data\n",
    "type(df)"
   ]
  },
  {
   "cell_type": "code",
   "execution_count": null,
   "id": "a94ba8bf-43a3-4b6c-8c3e-38ee067a89af",
   "metadata": {},
   "outputs": [],
   "source": [
    "Have a look at some attributes and descriptive statistics of our DataFrame. "
   ]
  },
  {
   "cell_type": "code",
   "execution_count": 2,
   "id": "e29283c3-be2f-497e-a983-8d7d85345ada",
   "metadata": {},
   "outputs": [
    {
     "data": {
      "text/html": [
       "<div>\n",
       "<style scoped>\n",
       "    .dataframe tbody tr th:only-of-type {\n",
       "        vertical-align: middle;\n",
       "    }\n",
       "\n",
       "    .dataframe tbody tr th {\n",
       "        vertical-align: top;\n",
       "    }\n",
       "\n",
       "    .dataframe thead th {\n",
       "        text-align: right;\n",
       "    }\n",
       "</style>\n",
       "<table border=\"1\" class=\"dataframe\">\n",
       "  <thead>\n",
       "    <tr style=\"text-align: right;\">\n",
       "      <th></th>\n",
       "      <th>country</th>\n",
       "      <th>continent</th>\n",
       "      <th>year</th>\n",
       "      <th>lifeExp</th>\n",
       "      <th>pop</th>\n",
       "      <th>gdpPercap</th>\n",
       "      <th>iso_alpha</th>\n",
       "      <th>iso_num</th>\n",
       "    </tr>\n",
       "  </thead>\n",
       "  <tbody>\n",
       "    <tr>\n",
       "      <th>0</th>\n",
       "      <td>Afghanistan</td>\n",
       "      <td>Asia</td>\n",
       "      <td>1952</td>\n",
       "      <td>28.801</td>\n",
       "      <td>8425333</td>\n",
       "      <td>779.445314</td>\n",
       "      <td>AFG</td>\n",
       "      <td>4</td>\n",
       "    </tr>\n",
       "    <tr>\n",
       "      <th>1</th>\n",
       "      <td>Afghanistan</td>\n",
       "      <td>Asia</td>\n",
       "      <td>1957</td>\n",
       "      <td>30.332</td>\n",
       "      <td>9240934</td>\n",
       "      <td>820.853030</td>\n",
       "      <td>AFG</td>\n",
       "      <td>4</td>\n",
       "    </tr>\n",
       "    <tr>\n",
       "      <th>2</th>\n",
       "      <td>Afghanistan</td>\n",
       "      <td>Asia</td>\n",
       "      <td>1962</td>\n",
       "      <td>31.997</td>\n",
       "      <td>10267083</td>\n",
       "      <td>853.100710</td>\n",
       "      <td>AFG</td>\n",
       "      <td>4</td>\n",
       "    </tr>\n",
       "    <tr>\n",
       "      <th>3</th>\n",
       "      <td>Afghanistan</td>\n",
       "      <td>Asia</td>\n",
       "      <td>1967</td>\n",
       "      <td>34.020</td>\n",
       "      <td>11537966</td>\n",
       "      <td>836.197138</td>\n",
       "      <td>AFG</td>\n",
       "      <td>4</td>\n",
       "    </tr>\n",
       "    <tr>\n",
       "      <th>4</th>\n",
       "      <td>Afghanistan</td>\n",
       "      <td>Asia</td>\n",
       "      <td>1972</td>\n",
       "      <td>36.088</td>\n",
       "      <td>13079460</td>\n",
       "      <td>739.981106</td>\n",
       "      <td>AFG</td>\n",
       "      <td>4</td>\n",
       "    </tr>\n",
       "  </tbody>\n",
       "</table>\n",
       "</div>"
      ],
      "text/plain": [
       "       country continent  year  lifeExp       pop   gdpPercap iso_alpha  \\\n",
       "0  Afghanistan      Asia  1952   28.801   8425333  779.445314       AFG   \n",
       "1  Afghanistan      Asia  1957   30.332   9240934  820.853030       AFG   \n",
       "2  Afghanistan      Asia  1962   31.997  10267083  853.100710       AFG   \n",
       "3  Afghanistan      Asia  1967   34.020  11537966  836.197138       AFG   \n",
       "4  Afghanistan      Asia  1972   36.088  13079460  739.981106       AFG   \n",
       "\n",
       "   iso_num  \n",
       "0        4  \n",
       "1        4  \n",
       "2        4  \n",
       "3        4  \n",
       "4        4  "
      ]
     },
     "execution_count": 2,
     "metadata": {},
     "output_type": "execute_result"
    }
   ],
   "source": [
    "df.head(5)"
   ]
  },
  {
   "cell_type": "code",
   "execution_count": 8,
   "id": "04fe6bf3-d4a6-491e-8032-ffe8be717511",
   "metadata": {},
   "outputs": [
    {
     "data": {
      "text/plain": [
       "(1704, 8)"
      ]
     },
     "execution_count": 8,
     "metadata": {},
     "output_type": "execute_result"
    }
   ],
   "source": [
    "df.shape  #without parents!"
   ]
  },
  {
   "cell_type": "code",
   "execution_count": 5,
   "id": "e2e43167-8b33-466a-a263-c6f84d960e5a",
   "metadata": {},
   "outputs": [
    {
     "data": {
      "text/html": [
       "<div>\n",
       "<style scoped>\n",
       "    .dataframe tbody tr th:only-of-type {\n",
       "        vertical-align: middle;\n",
       "    }\n",
       "\n",
       "    .dataframe tbody tr th {\n",
       "        vertical-align: top;\n",
       "    }\n",
       "\n",
       "    .dataframe thead th {\n",
       "        text-align: right;\n",
       "    }\n",
       "</style>\n",
       "<table border=\"1\" class=\"dataframe\">\n",
       "  <thead>\n",
       "    <tr style=\"text-align: right;\">\n",
       "      <th></th>\n",
       "      <th>year</th>\n",
       "      <th>lifeExp</th>\n",
       "      <th>pop</th>\n",
       "      <th>gdpPercap</th>\n",
       "      <th>iso_num</th>\n",
       "    </tr>\n",
       "  </thead>\n",
       "  <tbody>\n",
       "    <tr>\n",
       "      <th>count</th>\n",
       "      <td>1704.0</td>\n",
       "      <td>1704.0</td>\n",
       "      <td>1704.0</td>\n",
       "      <td>1704.0</td>\n",
       "      <td>1704.0</td>\n",
       "    </tr>\n",
       "    <tr>\n",
       "      <th>mean</th>\n",
       "      <td>1979.5</td>\n",
       "      <td>59.5</td>\n",
       "      <td>29601212.3</td>\n",
       "      <td>7215.3</td>\n",
       "      <td>425.9</td>\n",
       "    </tr>\n",
       "    <tr>\n",
       "      <th>std</th>\n",
       "      <td>17.3</td>\n",
       "      <td>12.9</td>\n",
       "      <td>106157896.7</td>\n",
       "      <td>9857.5</td>\n",
       "      <td>248.3</td>\n",
       "    </tr>\n",
       "    <tr>\n",
       "      <th>min</th>\n",
       "      <td>1952.0</td>\n",
       "      <td>23.6</td>\n",
       "      <td>60011.0</td>\n",
       "      <td>241.2</td>\n",
       "      <td>4.0</td>\n",
       "    </tr>\n",
       "    <tr>\n",
       "      <th>25%</th>\n",
       "      <td>1965.8</td>\n",
       "      <td>48.2</td>\n",
       "      <td>2793664.0</td>\n",
       "      <td>1202.1</td>\n",
       "      <td>208.0</td>\n",
       "    </tr>\n",
       "    <tr>\n",
       "      <th>50%</th>\n",
       "      <td>1979.5</td>\n",
       "      <td>60.7</td>\n",
       "      <td>7023595.5</td>\n",
       "      <td>3531.8</td>\n",
       "      <td>410.0</td>\n",
       "    </tr>\n",
       "    <tr>\n",
       "      <th>75%</th>\n",
       "      <td>1993.2</td>\n",
       "      <td>70.8</td>\n",
       "      <td>19585221.8</td>\n",
       "      <td>9325.5</td>\n",
       "      <td>638.0</td>\n",
       "    </tr>\n",
       "    <tr>\n",
       "      <th>max</th>\n",
       "      <td>2007.0</td>\n",
       "      <td>82.6</td>\n",
       "      <td>1318683096.0</td>\n",
       "      <td>113523.1</td>\n",
       "      <td>894.0</td>\n",
       "    </tr>\n",
       "  </tbody>\n",
       "</table>\n",
       "</div>"
      ],
      "text/plain": [
       "        year  lifeExp          pop  gdpPercap  iso_num\n",
       "count 1704.0   1704.0       1704.0     1704.0   1704.0\n",
       "mean  1979.5     59.5   29601212.3     7215.3    425.9\n",
       "std     17.3     12.9  106157896.7     9857.5    248.3\n",
       "min   1952.0     23.6      60011.0      241.2      4.0\n",
       "25%   1965.8     48.2    2793664.0     1202.1    208.0\n",
       "50%   1979.5     60.7    7023595.5     3531.8    410.0\n",
       "75%   1993.2     70.8   19585221.8     9325.5    638.0\n",
       "max   2007.0     82.6 1318683096.0   113523.1    894.0"
      ]
     },
     "execution_count": 5,
     "metadata": {},
     "output_type": "execute_result"
    }
   ],
   "source": [
    "pd.set_option('display.float_format', lambda x: '%.1f' % x)  # set number of digits\n",
    "df.describe()"
   ]
  },
  {
   "cell_type": "code",
   "execution_count": 2,
   "id": "3cb1cbaf-a6e4-419c-b836-6f20140e33e2",
   "metadata": {},
   "outputs": [
    {
     "data": {
      "text/plain": [
       "Nicaragua           12\n",
       "Gambia              12\n",
       "Rwanda              12\n",
       "Cambodia            12\n",
       "Congo, Dem. Rep.    12\n",
       "                    ..\n",
       "Sudan               12\n",
       "Swaziland           12\n",
       "Peru                12\n",
       "Bulgaria            12\n",
       "Costa Rica          12\n",
       "Name: country, Length: 142, dtype: int64"
      ]
     },
     "execution_count": 2,
     "metadata": {},
     "output_type": "execute_result"
    }
   ],
   "source": [
    "df[\"country\"].value_counts()"
   ]
  },
  {
   "cell_type": "code",
   "execution_count": 11,
   "id": "3e1bc530-43b0-40f5-a1c7-03a416e3b9a4",
   "metadata": {},
   "outputs": [
    {
     "data": {
      "text/plain": [
       "0       Afghanistan\n",
       "1       Afghanistan\n",
       "2       Afghanistan\n",
       "3       Afghanistan\n",
       "4       Afghanistan\n",
       "           ...     \n",
       "1699       Zimbabwe\n",
       "1700       Zimbabwe\n",
       "1701       Zimbabwe\n",
       "1702       Zimbabwe\n",
       "1703       Zimbabwe\n",
       "Name: country, Length: 1704, dtype: object"
      ]
     },
     "execution_count": 11,
     "metadata": {},
     "output_type": "execute_result"
    }
   ],
   "source": [
    "df[\"country\"]"
   ]
  },
  {
   "cell_type": "markdown",
   "id": "a6ac0909-ac4d-4c3d-ad25-e5bf76188864",
   "metadata": {},
   "source": [
    "## Filtering DataFrame\n",
    "\n",
    "1. Select the most recent year. "
   ]
  },
  {
   "cell_type": "code",
   "execution_count": 14,
   "id": "f7ed47cc-000f-4c5f-9d3b-dd2ae7b5a73b",
   "metadata": {},
   "outputs": [
    {
     "data": {
      "text/plain": [
       "2007"
      ]
     },
     "execution_count": 14,
     "metadata": {},
     "output_type": "execute_result"
    }
   ],
   "source": [
    "df[\"year\"].max()"
   ]
  },
  {
   "cell_type": "raw",
   "id": "aeeb4792-687e-416d-85ab-1d5873fc2f4e",
   "metadata": {},
   "source": [
    "Exclude all previous years and keep 2007 only with a query. "
   ]
  },
  {
   "cell_type": "code",
   "execution_count": 15,
   "id": "36d93d87-678e-4d8b-87b2-6f8a277ee23a",
   "metadata": {},
   "outputs": [
    {
     "data": {
      "text/html": [
       "<div>\n",
       "<style scoped>\n",
       "    .dataframe tbody tr th:only-of-type {\n",
       "        vertical-align: middle;\n",
       "    }\n",
       "\n",
       "    .dataframe tbody tr th {\n",
       "        vertical-align: top;\n",
       "    }\n",
       "\n",
       "    .dataframe thead th {\n",
       "        text-align: right;\n",
       "    }\n",
       "</style>\n",
       "<table border=\"1\" class=\"dataframe\">\n",
       "  <thead>\n",
       "    <tr style=\"text-align: right;\">\n",
       "      <th></th>\n",
       "      <th>country</th>\n",
       "      <th>continent</th>\n",
       "      <th>year</th>\n",
       "      <th>lifeExp</th>\n",
       "      <th>pop</th>\n",
       "      <th>gdpPercap</th>\n",
       "      <th>iso_alpha</th>\n",
       "      <th>iso_num</th>\n",
       "    </tr>\n",
       "  </thead>\n",
       "  <tbody>\n",
       "    <tr>\n",
       "      <th>11</th>\n",
       "      <td>Afghanistan</td>\n",
       "      <td>Asia</td>\n",
       "      <td>2007</td>\n",
       "      <td>43.8</td>\n",
       "      <td>31889923</td>\n",
       "      <td>974.6</td>\n",
       "      <td>AFG</td>\n",
       "      <td>4</td>\n",
       "    </tr>\n",
       "    <tr>\n",
       "      <th>23</th>\n",
       "      <td>Albania</td>\n",
       "      <td>Europe</td>\n",
       "      <td>2007</td>\n",
       "      <td>76.4</td>\n",
       "      <td>3600523</td>\n",
       "      <td>5937.0</td>\n",
       "      <td>ALB</td>\n",
       "      <td>8</td>\n",
       "    </tr>\n",
       "    <tr>\n",
       "      <th>35</th>\n",
       "      <td>Algeria</td>\n",
       "      <td>Africa</td>\n",
       "      <td>2007</td>\n",
       "      <td>72.3</td>\n",
       "      <td>33333216</td>\n",
       "      <td>6223.4</td>\n",
       "      <td>DZA</td>\n",
       "      <td>12</td>\n",
       "    </tr>\n",
       "    <tr>\n",
       "      <th>47</th>\n",
       "      <td>Angola</td>\n",
       "      <td>Africa</td>\n",
       "      <td>2007</td>\n",
       "      <td>42.7</td>\n",
       "      <td>12420476</td>\n",
       "      <td>4797.2</td>\n",
       "      <td>AGO</td>\n",
       "      <td>24</td>\n",
       "    </tr>\n",
       "    <tr>\n",
       "      <th>59</th>\n",
       "      <td>Argentina</td>\n",
       "      <td>Americas</td>\n",
       "      <td>2007</td>\n",
       "      <td>75.3</td>\n",
       "      <td>40301927</td>\n",
       "      <td>12779.4</td>\n",
       "      <td>ARG</td>\n",
       "      <td>32</td>\n",
       "    </tr>\n",
       "    <tr>\n",
       "      <th>...</th>\n",
       "      <td>...</td>\n",
       "      <td>...</td>\n",
       "      <td>...</td>\n",
       "      <td>...</td>\n",
       "      <td>...</td>\n",
       "      <td>...</td>\n",
       "      <td>...</td>\n",
       "      <td>...</td>\n",
       "    </tr>\n",
       "    <tr>\n",
       "      <th>1655</th>\n",
       "      <td>Vietnam</td>\n",
       "      <td>Asia</td>\n",
       "      <td>2007</td>\n",
       "      <td>74.2</td>\n",
       "      <td>85262356</td>\n",
       "      <td>2441.6</td>\n",
       "      <td>VNM</td>\n",
       "      <td>704</td>\n",
       "    </tr>\n",
       "    <tr>\n",
       "      <th>1667</th>\n",
       "      <td>West Bank and Gaza</td>\n",
       "      <td>Asia</td>\n",
       "      <td>2007</td>\n",
       "      <td>73.4</td>\n",
       "      <td>4018332</td>\n",
       "      <td>3025.3</td>\n",
       "      <td>PSE</td>\n",
       "      <td>275</td>\n",
       "    </tr>\n",
       "    <tr>\n",
       "      <th>1679</th>\n",
       "      <td>Yemen, Rep.</td>\n",
       "      <td>Asia</td>\n",
       "      <td>2007</td>\n",
       "      <td>62.7</td>\n",
       "      <td>22211743</td>\n",
       "      <td>2280.8</td>\n",
       "      <td>YEM</td>\n",
       "      <td>887</td>\n",
       "    </tr>\n",
       "    <tr>\n",
       "      <th>1691</th>\n",
       "      <td>Zambia</td>\n",
       "      <td>Africa</td>\n",
       "      <td>2007</td>\n",
       "      <td>42.4</td>\n",
       "      <td>11746035</td>\n",
       "      <td>1271.2</td>\n",
       "      <td>ZMB</td>\n",
       "      <td>894</td>\n",
       "    </tr>\n",
       "    <tr>\n",
       "      <th>1703</th>\n",
       "      <td>Zimbabwe</td>\n",
       "      <td>Africa</td>\n",
       "      <td>2007</td>\n",
       "      <td>43.5</td>\n",
       "      <td>12311143</td>\n",
       "      <td>469.7</td>\n",
       "      <td>ZWE</td>\n",
       "      <td>716</td>\n",
       "    </tr>\n",
       "  </tbody>\n",
       "</table>\n",
       "<p>142 rows × 8 columns</p>\n",
       "</div>"
      ],
      "text/plain": [
       "                 country continent  year  lifeExp       pop  gdpPercap  \\\n",
       "11           Afghanistan      Asia  2007     43.8  31889923      974.6   \n",
       "23               Albania    Europe  2007     76.4   3600523     5937.0   \n",
       "35               Algeria    Africa  2007     72.3  33333216     6223.4   \n",
       "47                Angola    Africa  2007     42.7  12420476     4797.2   \n",
       "59             Argentina  Americas  2007     75.3  40301927    12779.4   \n",
       "...                  ...       ...   ...      ...       ...        ...   \n",
       "1655             Vietnam      Asia  2007     74.2  85262356     2441.6   \n",
       "1667  West Bank and Gaza      Asia  2007     73.4   4018332     3025.3   \n",
       "1679         Yemen, Rep.      Asia  2007     62.7  22211743     2280.8   \n",
       "1691              Zambia    Africa  2007     42.4  11746035     1271.2   \n",
       "1703            Zimbabwe    Africa  2007     43.5  12311143      469.7   \n",
       "\n",
       "     iso_alpha  iso_num  \n",
       "11         AFG        4  \n",
       "23         ALB        8  \n",
       "35         DZA       12  \n",
       "47         AGO       24  \n",
       "59         ARG       32  \n",
       "...        ...      ...  \n",
       "1655       VNM      704  \n",
       "1667       PSE      275  \n",
       "1679       YEM      887  \n",
       "1691       ZMB      894  \n",
       "1703       ZWE      716  \n",
       "\n",
       "[142 rows x 8 columns]"
      ]
     },
     "execution_count": 15,
     "metadata": {},
     "output_type": "execute_result"
    }
   ],
   "source": [
    "df.query('year == 2007')"
   ]
  },
  {
   "cell_type": "markdown",
   "id": "98a64150-5c26-4509-a627-8b3e16295e4e",
   "metadata": {},
   "source": [
    "We got a df with 142 rows which is equal to the number of countries. And this is so `True`."
   ]
  },
  {
   "cell_type": "code",
   "execution_count": 21,
   "id": "410f4ded-7391-45a1-b411-6769cddc8cac",
   "metadata": {},
   "outputs": [
    {
     "data": {
      "text/plain": [
       "True"
      ]
     },
     "execution_count": 21,
     "metadata": {},
     "output_type": "execute_result"
    }
   ],
   "source": [
    "len(df.country.unique()) == len(df.query('year == 2007'))"
   ]
  },
  {
   "cell_type": "raw",
   "id": "7ce03a3e-30b9-4f76-a3e3-5367bf15a0c2",
   "metadata": {},
   "source": [
    "Which country has the lowest life expectancy in Europe in 2007? First print the value."
   ]
  },
  {
   "cell_type": "code",
   "execution_count": 26,
   "id": "db372fef-2985-432e-8675-42cac6942230",
   "metadata": {},
   "outputs": [
    {
     "data": {
      "text/plain": [
       "71.777"
      ]
     },
     "execution_count": 26,
     "metadata": {},
     "output_type": "execute_result"
    }
   ],
   "source": [
    "df.query('year == 2007 & continent == \"Europe\"')[\"lifeExp\"].min()"
   ]
  },
  {
   "cell_type": "markdown",
   "id": "14654a5d-3b55-4666-aabd-4ab2adce34e9",
   "metadata": {},
   "source": [
    "What country has the highest life expectancy worldwide?"
   ]
  },
  {
   "cell_type": "code",
   "execution_count": 21,
   "id": "7676ef9c-095e-4686-a314-df39e4932a99",
   "metadata": {},
   "outputs": [
    {
     "data": {
      "text/html": [
       "<div>\n",
       "<style scoped>\n",
       "    .dataframe tbody tr th:only-of-type {\n",
       "        vertical-align: middle;\n",
       "    }\n",
       "\n",
       "    .dataframe tbody tr th {\n",
       "        vertical-align: top;\n",
       "    }\n",
       "\n",
       "    .dataframe thead th {\n",
       "        text-align: right;\n",
       "    }\n",
       "</style>\n",
       "<table border=\"1\" class=\"dataframe\">\n",
       "  <thead>\n",
       "    <tr style=\"text-align: right;\">\n",
       "      <th></th>\n",
       "      <th>country</th>\n",
       "      <th>continent</th>\n",
       "      <th>year</th>\n",
       "      <th>lifeExp</th>\n",
       "      <th>pop</th>\n",
       "      <th>gdpPercap</th>\n",
       "      <th>iso_alpha</th>\n",
       "      <th>iso_num</th>\n",
       "    </tr>\n",
       "  </thead>\n",
       "  <tbody>\n",
       "    <tr>\n",
       "      <th>803</th>\n",
       "      <td>Japan</td>\n",
       "      <td>Asia</td>\n",
       "      <td>2007</td>\n",
       "      <td>82.603</td>\n",
       "      <td>127467972</td>\n",
       "      <td>31656.06806</td>\n",
       "      <td>JPN</td>\n",
       "      <td>392</td>\n",
       "    </tr>\n",
       "  </tbody>\n",
       "</table>\n",
       "</div>"
      ],
      "text/plain": [
       "    country continent  year  lifeExp        pop    gdpPercap iso_alpha  \\\n",
       "803   Japan      Asia  2007   82.603  127467972  31656.06806       JPN   \n",
       "\n",
       "     iso_num  \n",
       "803      392  "
      ]
     },
     "execution_count": 21,
     "metadata": {},
     "output_type": "execute_result"
    }
   ],
   "source": [
    "maxLE = df['lifeExp'].max()\n",
    "df[df['lifeExp'] == maxLE]"
   ]
  },
  {
   "cell_type": "markdown",
   "id": "4b98eb8d-7258-4649-9cec-7f7059aedf44",
   "metadata": {},
   "source": [
    "What country has the highest life expectancy in each continent?"
   ]
  },
  {
   "cell_type": "code",
   "execution_count": 24,
   "id": "26f28a5e-1b4d-4165-ad3f-6f4219037204",
   "metadata": {},
   "outputs": [
    {
     "data": {
      "text/html": [
       "<div>\n",
       "<style scoped>\n",
       "    .dataframe tbody tr th:only-of-type {\n",
       "        vertical-align: middle;\n",
       "    }\n",
       "\n",
       "    .dataframe tbody tr th {\n",
       "        vertical-align: top;\n",
       "    }\n",
       "\n",
       "    .dataframe thead th {\n",
       "        text-align: right;\n",
       "    }\n",
       "</style>\n",
       "<table border=\"1\" class=\"dataframe\">\n",
       "  <thead>\n",
       "    <tr style=\"text-align: right;\">\n",
       "      <th></th>\n",
       "      <th>year</th>\n",
       "      <th>lifeExp</th>\n",
       "      <th>pop</th>\n",
       "      <th>gdpPercap</th>\n",
       "      <th>iso_num</th>\n",
       "    </tr>\n",
       "    <tr>\n",
       "      <th>continent</th>\n",
       "      <th></th>\n",
       "      <th></th>\n",
       "      <th></th>\n",
       "      <th></th>\n",
       "      <th></th>\n",
       "    </tr>\n",
       "  </thead>\n",
       "  <tbody>\n",
       "    <tr>\n",
       "      <th>Africa</th>\n",
       "      <td>2007</td>\n",
       "      <td>76.442</td>\n",
       "      <td>135031164</td>\n",
       "      <td>21951.21176</td>\n",
       "      <td>894</td>\n",
       "    </tr>\n",
       "    <tr>\n",
       "      <th>Americas</th>\n",
       "      <td>2007</td>\n",
       "      <td>80.653</td>\n",
       "      <td>301139947</td>\n",
       "      <td>42951.65309</td>\n",
       "      <td>862</td>\n",
       "    </tr>\n",
       "    <tr>\n",
       "      <th>Asia</th>\n",
       "      <td>2007</td>\n",
       "      <td>82.603</td>\n",
       "      <td>1318683096</td>\n",
       "      <td>113523.13290</td>\n",
       "      <td>887</td>\n",
       "    </tr>\n",
       "    <tr>\n",
       "      <th>Europe</th>\n",
       "      <td>2007</td>\n",
       "      <td>81.757</td>\n",
       "      <td>82400996</td>\n",
       "      <td>49357.19017</td>\n",
       "      <td>826</td>\n",
       "    </tr>\n",
       "    <tr>\n",
       "      <th>Oceania</th>\n",
       "      <td>2007</td>\n",
       "      <td>81.235</td>\n",
       "      <td>20434176</td>\n",
       "      <td>34435.36744</td>\n",
       "      <td>554</td>\n",
       "    </tr>\n",
       "  </tbody>\n",
       "</table>\n",
       "</div>"
      ],
      "text/plain": [
       "           year  lifeExp         pop     gdpPercap  iso_num\n",
       "continent                                                  \n",
       "Africa     2007   76.442   135031164   21951.21176      894\n",
       "Americas   2007   80.653   301139947   42951.65309      862\n",
       "Asia       2007   82.603  1318683096  113523.13290      887\n",
       "Europe     2007   81.757    82400996   49357.19017      826\n",
       "Oceania    2007   81.235    20434176   34435.36744      554"
      ]
     },
     "execution_count": 24,
     "metadata": {},
     "output_type": "execute_result"
    }
   ],
   "source": [
    "df.groupby(\"continent\").max(\"lifeExp\")"
   ]
  },
  {
   "cell_type": "code",
   "execution_count": 25,
   "id": "89ecd0b9-4041-4770-8be0-3caa6068aaf4",
   "metadata": {},
   "outputs": [
    {
     "data": {
      "text/plain": [
       "continent\n",
       "Asia        82.603\n",
       "Europe      81.757\n",
       "Africa      76.442\n",
       "Americas    80.653\n",
       "Oceania     81.235\n",
       "Name: lifeExp, dtype: float64"
      ]
     },
     "execution_count": 25,
     "metadata": {},
     "output_type": "execute_result"
    }
   ],
   "source": [
    "df.groupby(['continent'], sort=False)['lifeExp'].max()"
   ]
  },
  {
   "cell_type": "markdown",
   "id": "c838e20c-c22e-4a01-ae9f-a0577dc1c850",
   "metadata": {},
   "source": [
    "Well, mission completed, but we are still lack the name of the countries :-( So copy paste from [here](https://stackoverflow.com/a/15705958)."
   ]
  },
  {
   "cell_type": "code",
   "execution_count": 29,
   "id": "bdcf35a2-3a5c-4ad5-b025-5e5527ef9a8c",
   "metadata": {},
   "outputs": [
    {
     "data": {
      "text/html": [
       "<div>\n",
       "<style scoped>\n",
       "    .dataframe tbody tr th:only-of-type {\n",
       "        vertical-align: middle;\n",
       "    }\n",
       "\n",
       "    .dataframe tbody tr th {\n",
       "        vertical-align: top;\n",
       "    }\n",
       "\n",
       "    .dataframe thead th {\n",
       "        text-align: right;\n",
       "    }\n",
       "</style>\n",
       "<table border=\"1\" class=\"dataframe\">\n",
       "  <thead>\n",
       "    <tr style=\"text-align: right;\">\n",
       "      <th></th>\n",
       "      <th>country</th>\n",
       "      <th>continent</th>\n",
       "      <th>year</th>\n",
       "      <th>lifeExp</th>\n",
       "      <th>pop</th>\n",
       "      <th>gdpPercap</th>\n",
       "      <th>iso_alpha</th>\n",
       "      <th>iso_num</th>\n",
       "    </tr>\n",
       "  </thead>\n",
       "  <tbody>\n",
       "    <tr>\n",
       "      <th>71</th>\n",
       "      <td>Australia</td>\n",
       "      <td>Oceania</td>\n",
       "      <td>2007</td>\n",
       "      <td>81.235</td>\n",
       "      <td>20434176</td>\n",
       "      <td>34435.367440</td>\n",
       "      <td>AUS</td>\n",
       "      <td>36</td>\n",
       "    </tr>\n",
       "    <tr>\n",
       "      <th>251</th>\n",
       "      <td>Canada</td>\n",
       "      <td>Americas</td>\n",
       "      <td>2007</td>\n",
       "      <td>80.653</td>\n",
       "      <td>33390141</td>\n",
       "      <td>36319.235010</td>\n",
       "      <td>CAN</td>\n",
       "      <td>124</td>\n",
       "    </tr>\n",
       "    <tr>\n",
       "      <th>695</th>\n",
       "      <td>Iceland</td>\n",
       "      <td>Europe</td>\n",
       "      <td>2007</td>\n",
       "      <td>81.757</td>\n",
       "      <td>301931</td>\n",
       "      <td>36180.789190</td>\n",
       "      <td>ISL</td>\n",
       "      <td>352</td>\n",
       "    </tr>\n",
       "    <tr>\n",
       "      <th>803</th>\n",
       "      <td>Japan</td>\n",
       "      <td>Asia</td>\n",
       "      <td>2007</td>\n",
       "      <td>82.603</td>\n",
       "      <td>127467972</td>\n",
       "      <td>31656.068060</td>\n",
       "      <td>JPN</td>\n",
       "      <td>392</td>\n",
       "    </tr>\n",
       "    <tr>\n",
       "      <th>1271</th>\n",
       "      <td>Reunion</td>\n",
       "      <td>Africa</td>\n",
       "      <td>2007</td>\n",
       "      <td>76.442</td>\n",
       "      <td>798094</td>\n",
       "      <td>7670.122558</td>\n",
       "      <td>REU</td>\n",
       "      <td>638</td>\n",
       "    </tr>\n",
       "  </tbody>\n",
       "</table>\n",
       "</div>"
      ],
      "text/plain": [
       "        country continent  year  lifeExp        pop     gdpPercap iso_alpha  \\\n",
       "71    Australia   Oceania  2007   81.235   20434176  34435.367440       AUS   \n",
       "251      Canada  Americas  2007   80.653   33390141  36319.235010       CAN   \n",
       "695     Iceland    Europe  2007   81.757     301931  36180.789190       ISL   \n",
       "803       Japan      Asia  2007   82.603  127467972  31656.068060       JPN   \n",
       "1271    Reunion    Africa  2007   76.442     798094   7670.122558       REU   \n",
       "\n",
       "      iso_num  \n",
       "71         36  \n",
       "251       124  \n",
       "695       352  \n",
       "803       392  \n",
       "1271      638  "
      ]
     },
     "execution_count": 29,
     "metadata": {},
     "output_type": "execute_result"
    }
   ],
   "source": [
    "idx = df.groupby(['continent'])['lifeExp'].transform(max) == df['lifeExp']\n",
    "df[idx]\n"
   ]
  },
  {
   "cell_type": "markdown",
   "id": "65a6db26-de96-4af5-954b-a954226cc812",
   "metadata": {},
   "source": [
    "Now, look at the minimum values by continent! But remember to filter for the most recent data."
   ]
  },
  {
   "cell_type": "code",
   "execution_count": 31,
   "id": "bf10cc07-5592-49d3-bfec-e874165ee04a",
   "metadata": {},
   "outputs": [
    {
     "data": {
      "text/html": [
       "<div>\n",
       "<style scoped>\n",
       "    .dataframe tbody tr th:only-of-type {\n",
       "        vertical-align: middle;\n",
       "    }\n",
       "\n",
       "    .dataframe tbody tr th {\n",
       "        vertical-align: top;\n",
       "    }\n",
       "\n",
       "    .dataframe thead th {\n",
       "        text-align: right;\n",
       "    }\n",
       "</style>\n",
       "<table border=\"1\" class=\"dataframe\">\n",
       "  <thead>\n",
       "    <tr style=\"text-align: right;\">\n",
       "      <th></th>\n",
       "      <th>country</th>\n",
       "      <th>continent</th>\n",
       "      <th>year</th>\n",
       "      <th>lifeExp</th>\n",
       "      <th>pop</th>\n",
       "      <th>gdpPercap</th>\n",
       "      <th>iso_alpha</th>\n",
       "      <th>iso_num</th>\n",
       "    </tr>\n",
       "  </thead>\n",
       "  <tbody>\n",
       "    <tr>\n",
       "      <th>11</th>\n",
       "      <td>Afghanistan</td>\n",
       "      <td>Asia</td>\n",
       "      <td>2007</td>\n",
       "      <td>43.828</td>\n",
       "      <td>31889923</td>\n",
       "      <td>974.580338</td>\n",
       "      <td>AFG</td>\n",
       "      <td>4</td>\n",
       "    </tr>\n",
       "    <tr>\n",
       "      <th>647</th>\n",
       "      <td>Haiti</td>\n",
       "      <td>Americas</td>\n",
       "      <td>2007</td>\n",
       "      <td>60.916</td>\n",
       "      <td>8502814</td>\n",
       "      <td>1201.637154</td>\n",
       "      <td>HTI</td>\n",
       "      <td>332</td>\n",
       "    </tr>\n",
       "    <tr>\n",
       "      <th>1103</th>\n",
       "      <td>New Zealand</td>\n",
       "      <td>Oceania</td>\n",
       "      <td>2007</td>\n",
       "      <td>80.204</td>\n",
       "      <td>4115771</td>\n",
       "      <td>25185.009110</td>\n",
       "      <td>NZL</td>\n",
       "      <td>554</td>\n",
       "    </tr>\n",
       "    <tr>\n",
       "      <th>1463</th>\n",
       "      <td>Swaziland</td>\n",
       "      <td>Africa</td>\n",
       "      <td>2007</td>\n",
       "      <td>39.613</td>\n",
       "      <td>1133066</td>\n",
       "      <td>4513.480643</td>\n",
       "      <td>SWZ</td>\n",
       "      <td>748</td>\n",
       "    </tr>\n",
       "    <tr>\n",
       "      <th>1583</th>\n",
       "      <td>Turkey</td>\n",
       "      <td>Europe</td>\n",
       "      <td>2007</td>\n",
       "      <td>71.777</td>\n",
       "      <td>71158647</td>\n",
       "      <td>8458.276384</td>\n",
       "      <td>TUR</td>\n",
       "      <td>792</td>\n",
       "    </tr>\n",
       "  </tbody>\n",
       "</table>\n",
       "</div>"
      ],
      "text/plain": [
       "          country continent  year  lifeExp       pop     gdpPercap iso_alpha  \\\n",
       "11    Afghanistan      Asia  2007   43.828  31889923    974.580338       AFG   \n",
       "647         Haiti  Americas  2007   60.916   8502814   1201.637154       HTI   \n",
       "1103  New Zealand   Oceania  2007   80.204   4115771  25185.009110       NZL   \n",
       "1463    Swaziland    Africa  2007   39.613   1133066   4513.480643       SWZ   \n",
       "1583       Turkey    Europe  2007   71.777  71158647   8458.276384       TUR   \n",
       "\n",
       "      iso_num  \n",
       "11          4  \n",
       "647       332  \n",
       "1103      554  \n",
       "1463      748  \n",
       "1583      792  "
      ]
     },
     "execution_count": 31,
     "metadata": {},
     "output_type": "execute_result"
    }
   ],
   "source": [
    "df2 = df.query('year == 2007')\n",
    "idx = df2.groupby(['continent'])['lifeExp'].transform(min) == df2['lifeExp']\n",
    "df2[idx]"
   ]
  },
  {
   "cell_type": "markdown",
   "id": "43f3bd7d-3b3a-4638-8c1c-d31a5df9872e",
   "metadata": {},
   "source": [
    "So, Turkey had the lowest life expectancy in Europe according to the example dataset.\n",
    "Finally, a quick plot of the results with Pandas-only way (i.e. we shall not use `plotly` module)."
   ]
  },
  {
   "cell_type": "code",
   "execution_count": 32,
   "id": "1d71aced-722a-42e1-af0c-25d02381ed4a",
   "metadata": {},
   "outputs": [
    {
     "data": {
      "image/png": "[encoded data removed]",
      "text/plain": [
       "<Figure size 432x288 with 1 Axes>"
      ]
     },
     "metadata": {
      "needs_background": "light"
     },
     "output_type": "display_data"
    }
   ],
   "source": [
    "ax = df2[idx].plot.bar(x='country', y='lifeExp', rot=0)"
   ]
  }
 ],
 "metadata": {
  "kernelspec": {
   "display_name": "Python 3",
   "language": "python",
   "name": "python3"
  },
  "language_info": {
   "codemirror_mode": {
    "name": "ipython",
    "version": 3
   },
   "file_extension": ".py",
   "mimetype": "text/x-python",
   "name": "python",
   "nbconvert_exporter": "python",
   "pygments_lexer": "ipython3",
   "version": "3.9.4"
  }
 },
 "nbformat": 4,
 "nbformat_minor": 5
}
